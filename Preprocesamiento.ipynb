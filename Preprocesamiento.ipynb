{
 "cells": [
  {
   "cell_type": "markdown",
   "metadata": {},
   "source": [
    "# Preprocesamiento de las secuencias genómicas SARS-CoV-2"
   ]
  },
  {
   "cell_type": "markdown",
   "metadata": {},
   "source": [
    "### Instalación de Librerías"
   ]
  },
  {
   "cell_type": "code",
   "execution_count": 1,
   "metadata": {},
   "outputs": [
    {
     "name": "stdout",
     "output_type": "stream",
     "text": [
      "Requirement already satisfied: plotly in c:\\python39\\lib\\site-packages (5.2.1)\n",
      "Requirement already satisfied: six in c:\\python39\\lib\\site-packages (from plotly) (1.16.0)\n",
      "Requirement already satisfied: tenacity>=6.2.0 in c:\\python39\\lib\\site-packages (from plotly) (8.0.1)\n"
     ]
    }
   ],
   "source": [
    "!pip install plotly"
   ]
  },
  {
   "cell_type": "code",
   "execution_count": 2,
   "metadata": {
    "scrolled": true
   },
   "outputs": [
    {
     "name": "stdout",
     "output_type": "stream",
     "text": [
      "Requirement already satisfied: Bio in c:\\python39\\lib\\site-packages (0.7.3)\n",
      "Requirement already satisfied: plac in c:\\python39\\lib\\site-packages (from Bio) (1.3.3)\n",
      "Requirement already satisfied: tqdm>=4.62 in c:\\python39\\lib\\site-packages (from Bio) (4.62.1)\n",
      "Requirement already satisfied: biopython>=1.79 in c:\\python39\\lib\\site-packages (from Bio) (1.79)\n",
      "Requirement already satisfied: requests in c:\\python39\\lib\\site-packages (from Bio) (2.25.1)\n",
      "Requirement already satisfied: numpy in c:\\python39\\lib\\site-packages (from biopython>=1.79->Bio) (1.19.5)\n",
      "Requirement already satisfied: colorama in c:\\python39\\lib\\site-packages (from tqdm>=4.62->Bio) (0.4.4)\n",
      "Requirement already satisfied: urllib3<1.27,>=1.21.1 in c:\\python39\\lib\\site-packages (from requests->Bio) (1.26.4)\n",
      "Requirement already satisfied: chardet<5,>=3.0.2 in c:\\python39\\lib\\site-packages (from requests->Bio) (4.0.0)\n",
      "Requirement already satisfied: certifi>=2017.4.17 in c:\\python39\\lib\\site-packages (from requests->Bio) (2020.12.5)\n",
      "Requirement already satisfied: idna<3,>=2.5 in c:\\python39\\lib\\site-packages (from requests->Bio) (2.10)\n"
     ]
    }
   ],
   "source": [
    "!pip install Bio"
   ]
  },
  {
   "cell_type": "code",
   "execution_count": 3,
   "metadata": {
    "scrolled": true
   },
   "outputs": [
    {
     "name": "stdout",
     "output_type": "stream",
     "text": [
      "Requirement already satisfied: pygrok in c:\\python39\\lib\\site-packages (1.0.0)\n",
      "Requirement already satisfied: regex in c:\\python39\\lib\\site-packages (from pygrok) (2021.7.6)\n"
     ]
    }
   ],
   "source": [
    "!pip install pygrok"
   ]
  },
  {
   "cell_type": "code",
   "execution_count": 4,
   "metadata": {
    "scrolled": true
   },
   "outputs": [
    {
     "name": "stdout",
     "output_type": "stream",
     "text": [
      "Requirement already satisfied: scikit-learn in c:\\python39\\lib\\site-packages (0.24.2)\n",
      "Requirement already satisfied: scipy in c:\\python39\\lib\\site-packages (1.7.1)\n",
      "Requirement already satisfied: matplotlib in c:\\python39\\lib\\site-packages (3.4.3)\n",
      "Requirement already satisfied: numpy>=1.13.3 in c:\\python39\\lib\\site-packages (from scikit-learn) (1.19.5)\n",
      "Requirement already satisfied: joblib>=0.11 in c:\\python39\\lib\\site-packages (from scikit-learn) (1.0.1)\n",
      "Requirement already satisfied: threadpoolctl>=2.0.0 in c:\\python39\\lib\\site-packages (from scikit-learn) (2.2.0)\n",
      "Requirement already satisfied: pillow>=6.2.0 in c:\\python39\\lib\\site-packages (from matplotlib) (8.3.1)\n",
      "Requirement already satisfied: kiwisolver>=1.0.1 in c:\\python39\\lib\\site-packages (from matplotlib) (1.3.1)\n",
      "Requirement already satisfied: pyparsing>=2.2.1 in c:\\python39\\lib\\site-packages (from matplotlib) (2.4.7)\n",
      "Requirement already satisfied: cycler>=0.10 in c:\\python39\\lib\\site-packages (from matplotlib) (0.10.0)\n",
      "Requirement already satisfied: python-dateutil>=2.7 in c:\\python39\\lib\\site-packages (from matplotlib) (2.8.2)\n",
      "Requirement already satisfied: six in c:\\python39\\lib\\site-packages (from cycler>=0.10->matplotlib) (1.16.0)\n"
     ]
    }
   ],
   "source": [
    "!pip install -U scikit-learn scipy matplotlib"
   ]
  },
  {
   "cell_type": "markdown",
   "metadata": {},
   "source": [
    "### Importación de librerias"
   ]
  },
  {
   "cell_type": "code",
   "execution_count": 5,
   "metadata": {
    "scrolled": true
   },
   "outputs": [],
   "source": [
    "import warnings\n",
    "warnings.filterwarnings('ignore')\n",
    "#Librería para el formato de fecha\n",
    "from pygrok import Grok\n",
    "#Librería bioinformática\n",
    "from Bio import SeqIO, Seq\n",
    "from Bio.SeqIO.FastaIO import FastaIterator\n",
    "from Bio.Align import MultipleSeqAlignment\n",
    "#Librerías para los datos\n",
    "import numpy as np\n",
    "import pandas as pd\n",
    "from datetime import date\n",
    "import operator\n",
    "import collections\n",
    "from collections import Counter, defaultdict\n",
    "#Librería de preprocesamiento y reducción de dimensionalidad\n",
    "from sklearn.preprocessing import StandardScaler,scale\n",
    "from sklearn.decomposition import PCA\n",
    "from sklearn.pipeline import make_pipeline\n",
    "from sklearn.manifold import MDS\n",
    "#Librería de distancia\n",
    "from scipy.spatial.distance import pdist, hamming, squareform\n",
    "#Librerías para gráficos\n",
    "import matplotlib.pyplot as plt\n",
    "import matplotlib.font_manager\n",
    "from matplotlib import style\n",
    "style.use('ggplot') or plt.style.use('ggplot')"
   ]
  },
  {
   "cell_type": "markdown",
   "metadata": {},
   "source": [
    "### Lectura del archivo FASTA con todas las secuencias genómicas SARS-CoV-2"
   ]
  },
  {
   "cell_type": "markdown",
   "metadata": {
    "id": "ZiGyNPNRZiT5"
   },
   "source": [
    "- Variables iniciales"
   ]
  },
  {
   "cell_type": "code",
   "execution_count": 6,
   "metadata": {
    "id": "RA_k_YXHCshB",
    "scrolled": true
   },
   "outputs": [],
   "source": [
    "grok = Grok('%{YEAR:year}-%{MONTHNUM:month}-%{MONTHDAY:day}')\n",
    "lista = ['AMA','ANC','APU','ARE','AYA','CAJ','CUS','HUV','HUC','HVC','HUA','HCV','HUN','ICA','JUN','LAL','LAM','LIM','LOR','MDD','MOQ','PAS','PIU','PUN','SAM','TAC','TUM','UCA','CAL','C01','C02','C03']\n",
    "diccionario = {'AMA' : 'Amazonas','ANC' : 'Áncash','APU' : 'Apurímac','ARE' : 'Arequipa',\n",
    "               'AYA' : 'Ayacucho','CAJ' : 'Cajamarca','CUS' : 'Cusco',\n",
    "               'HUV' : 'Huancavelica','HUC' : 'Huánuco',\n",
    "               'HVC' : 'Huancavelica','HUA' : 'Huánuco',\n",
    "               'HCV' : 'Huancavelica','HUN' : 'Huánuco',\n",
    "               'ICA' : 'Ica','JUN' : 'Junín','LAL' : 'La Libertad',\n",
    "               'LAM' : 'Lambayeque','LIM' : 'Lima','LOR' : 'Loreto','MDD' : 'Madre de Dios',\n",
    "               'MOQ' : 'Moquegua','PAS' : 'Pasco','PIU' : 'Piura','PUN' : 'Puno',\n",
    "               'SAM' : 'San Martín','TAC' : 'Tacna','TUM' : 'Tumbes','UCA' : 'Ucayali',\n",
    "               'CAL' : 'Callao', 'C01' : 'Callao', 'C02': 'Callao','C03': 'Callao'}"
   ]
  },
  {
   "cell_type": "markdown",
   "metadata": {
    "id": "WCHBWN-GZcrw"
   },
   "source": [
    "- Lectura de archivos"
   ]
  },
  {
   "cell_type": "code",
   "execution_count": 7,
   "metadata": {
    "id": "acV-UM2IhoGS",
    "scrolled": true
   },
   "outputs": [
    {
     "name": "stdout",
     "output_type": "stream",
     "text": [
      "Cantidad de secuencias genómicas SARS-CoV-2 en el archivo .fasta: 3948\n"
     ]
    }
   ],
   "source": [
    "registros = list(SeqIO.parse(\"gisaid_hcov-19_2021_09_01_02.fasta\", \"fasta\"))\n",
    "print(\"Cantidad de secuencias genómicas SARS-CoV-2 en el archivo .fasta:\",len(registros))"
   ]
  },
  {
   "cell_type": "markdown",
   "metadata": {
    "id": "XfpFiKp4Za15"
   },
   "source": [
    "### Obtención del código, la fecha de recolección y el lugar de donde se obtuvo cada secuencia genómica SARS-CoV-2"
   ]
  },
  {
   "cell_type": "code",
   "execution_count": 8,
   "metadata": {
    "id": "T7AKbxth67fR",
    "scrolled": true
   },
   "outputs": [
    {
     "name": "stdout",
     "output_type": "stream",
     "text": [
      "Cantidad de secuencias eliminadas: 39\n"
     ]
    }
   ],
   "source": [
    "abrevPlaces=list() #Lista de las abreviaciones de los lugares\n",
    "fechas=list() #Lista de las fechas\n",
    "secuencias=list() #Lista de las secuencias\n",
    "secuenciasEliminadas=list() #Lista de las secuencias eliminadas\n",
    "for i in range(len(registros)):\n",
    "    name=registros[i].id\n",
    "    #Obtener la abreviación del nombre del departamento\n",
    "    primer_indice=name.find('/')\n",
    "    segundo_indice = name.find('/', primer_indice + 1)\n",
    "    place=name[segundo_indice+1:segundo_indice+4]\n",
    "    #Secuencias que no tienen un lugar definido\n",
    "    if not place in lista:\n",
    "        secuenciasEliminadas.append(registros[i])\n",
    "        continue\n",
    "    else:\n",
    "        if not place in abrevPlaces:\n",
    "            abrevPlaces.append(place)\n",
    "        #Obtener el código de la secuencia\n",
    "        primer_indice=name.find('|')\n",
    "        segundo_indice = name.find('|', primer_indice + 1)\n",
    "        codigo=name[primer_indice+1:segundo_indice]\n",
    "        #Obtener la fecha de recolección\n",
    "        valor=grok.match(name)\n",
    "        if valor == None:\n",
    "            secuenciasEliminadas.append(registros[i])\n",
    "            continue\n",
    "        else:\n",
    "            fecha=valor['year'] + '-' + valor['month'] + '-' + valor['day']\n",
    "            #Guardar los datos obtenidos\n",
    "            registros[i].name=diccionario[place]\n",
    "            registros[i].description=fecha   \n",
    "            registros[i].id=codigo \n",
    "            fechas.append(fecha)\n",
    "            #Guardar la secuencia\n",
    "            secuencias.append(registros[i])\n",
    "print(\"Cantidad de secuencias eliminadas:\",len(secuenciasEliminadas))"
   ]
  },
  {
   "cell_type": "markdown",
   "metadata": {
    "id": "9EM642TaZQ11"
   },
   "source": [
    "### Eliminación de las secuencias genómicas SARS-CoV-2 con errores de lectura"
   ]
  },
  {
   "cell_type": "code",
   "execution_count": 9,
   "metadata": {
    "id": "vMa_9pa6YKCe",
    "scrolled": true
   },
   "outputs": [
    {
     "name": "stdout",
     "output_type": "stream",
     "text": [
      "Cantidad de secuencias eliminadas: 2586\n",
      "Cantidad de secuencias a preprocesar: 1323\n"
     ]
    }
   ],
   "source": [
    "#Eliminamos las secuencias con errores de lectura en el archivo fasta (definido como letras distintas de A, C, G, T).\n",
    "pos,cantSecEli=0,0\n",
    "while pos<len(secuencias):\n",
    "    registro=set(secuencias[pos].seq)\n",
    "    if 'N' in registro or 'K' in registro or 'M' in registro or 'R' in registro or 'S' in registro or 'W' in registro or 'Y' in registro:\n",
    "        secuencias.pop(pos)\n",
    "        cantSecEli+=1\n",
    "    else:\n",
    "        pos+=1\n",
    "print(\"Cantidad de secuencias eliminadas:\",cantSecEli)\n",
    "print(\"Cantidad de secuencias a preprocesar:\",len(secuencias))"
   ]
  },
  {
   "cell_type": "markdown",
   "metadata": {},
   "source": [
    "### Alineamiento múltiple de las secuencias genómicas SARS-CoV-2"
   ]
  },
  {
   "cell_type": "code",
   "execution_count": 10,
   "metadata": {
    "scrolled": true
   },
   "outputs": [
    {
     "name": "stdout",
     "output_type": "stream",
     "text": [
      "Alignment with 1323 rows and 1273 columns\n",
      "TTATACCTTCCCAGGTAACAAACCAACCAACTTTCGATCTCTTG...GCC EPI_ISL_415787\n",
      "CAGGCTGCTTACGGTTTCGTCCGTGTTGCAGCCGATCATCAGCA...TCG EPI_ISL_482468\n",
      "GGACACGAGTAACTCGTCTATCTTCTGCAGGCTGCTTACGGTTT...TAA EPI_ISL_487269\n",
      "CTCGTCTATCTTCTGCAGGCTGCTTACGGTTTCGTCCGTGTTGC...CTT EPI_ISL_489836\n",
      "CTCGTCTATCTTCTGCAGGCTGCTTACGGTTTCGTCCGTGTTGC...CTT EPI_ISL_489837\n",
      "CTCGTCTATCTTCTGCAGGCTGCTTACGGTTTCGTCCGTGTTGC...CTT EPI_ISL_489838\n",
      "CTCGTCTATCTTCTGCAGGCTGCTTACGGTTTCGTCCGTGTTGC...CTT EPI_ISL_489839\n",
      "CTCGTCTATCTTCTGCAGGCTGCTTACGGTTTCGTCCGTGTTGC...CTT EPI_ISL_489987\n",
      "CTCGTCTATCTTCTGCAGGCTGCTTACGGTTTCGTCCGTGTTGC...CTT EPI_ISL_489988\n",
      "CTCGTCTATCTTCTGCAGGCTGCTTACGGTTTCGTCCGTGTTGC...CTT EPI_ISL_489989\n",
      "CTCGTCTATCTTCTGCAGGCTGCTTACGGTTTCGTCCGTGTTGC...CTT EPI_ISL_489990\n",
      "CTCGTCTATCTTCTGCAGGCTGCTTACGGTTTCGTCCGTGTTGC...CTT EPI_ISL_490209\n",
      "CTCGTCTATCTTCTGCAGGCTGCTTACGGTTTCGTCCGTGTTGC...CTT EPI_ISL_490315\n",
      "CTCGTCTATCTTCTGCAGGCTGCTTACGGTTTCGTCCGTGTTGC...CTT EPI_ISL_490316\n",
      "CTCGTCTATCTTCTGCAGGCTGCTTACGGTTTCGTCCGTGTTGC...CTT EPI_ISL_490975\n",
      "CAGGCTGCTTACGGTTTCGTCCGTGTTGCAGCCGATCATCAGCA...TCG EPI_ISL_490976\n",
      "CTCGTCTATCTTCTGCAGGCTGCTTACGGTTTCGTCCGTGTTGC...CTT EPI_ISL_491172\n",
      "CTCGTCTATCTTCTGCAGGCTGCTTACGGTTTCGTCCGTGTTGC...CTT EPI_ISL_491428\n",
      "...\n",
      "TCCCAGGTAACAAACCAACCAACTTTCGATCTCTTGTAGATCTG...CGA EPI_ISL_3707440\n"
     ]
    }
   ],
   "source": [
    "maxlongitud = max(len(registro.seq) for registro in secuencias)\n",
    "for registro in secuencias:\n",
    "    secuencia = str(registro.seq)\n",
    "    registro.seq = Seq.Seq(secuencia[:1273])\n",
    "secuenciasAlineadas = MultipleSeqAlignment(secuencias)\n",
    "print(secuenciasAlineadas)"
   ]
  },
  {
   "cell_type": "markdown",
   "metadata": {
    "id": "2cjf27VRzjv7"
   },
   "source": [
    "### Calculo de la matriz de distancia Hamming"
   ]
  },
  {
   "cell_type": "markdown",
   "metadata": {},
   "source": [
    "- Convertir las secuencias genómicas SARS-CoV-2 a una matriz"
   ]
  },
  {
   "cell_type": "code",
   "execution_count": 11,
   "metadata": {
    "colab": {
     "base_uri": "https://localhost:8080/"
    },
    "id": "px9Uz7fQZpnd",
    "outputId": "3748ec36-b7c3-4b03-ead2-e28dda16163e",
    "scrolled": true
   },
   "outputs": [
    {
     "data": {
      "text/plain": [
       "array([['T', 'T', 'A', ..., 'G', 'C', 'C'],\n",
       "       ['C', 'A', 'G', ..., 'T', 'C', 'G'],\n",
       "       ['G', 'G', 'A', ..., 'T', 'A', 'A'],\n",
       "       ...,\n",
       "       ['C', 'A', 'A', ..., 'A', 'A', 'T'],\n",
       "       ['A', 'C', 'C', ..., 'A', 'C', 'T'],\n",
       "       ['T', 'C', 'C', ..., 'C', 'G', 'A']], dtype='<U1')"
      ]
     },
     "execution_count": 11,
     "metadata": {},
     "output_type": "execute_result"
    }
   ],
   "source": [
    "matriz_secuencias= np.array([ list(secuencia.seq) for secuencia in secuenciasAlineadas])\n",
    "matriz_secuencias"
   ]
  },
  {
   "cell_type": "markdown",
   "metadata": {},
   "source": [
    "- Función para calcular la distancia Hamming"
   ]
  },
  {
   "cell_type": "code",
   "execution_count": 12,
   "metadata": {
    "scrolled": true
   },
   "outputs": [],
   "source": [
    "def ham(seq1,seq2):\n",
    "    return (hamming(seq1,seq2) * len(seq1))"
   ]
  },
  {
   "cell_type": "markdown",
   "metadata": {},
   "source": [
    "- Calcular una matriz de distancia condensada"
   ]
  },
  {
   "cell_type": "code",
   "execution_count": 13,
   "metadata": {
    "scrolled": true
   },
   "outputs": [],
   "source": [
    "distancia_condensada=pdist(matriz_secuencias, ham)\n",
    "dist_condensada=np.around(np.array(distancia_condensada),2)"
   ]
  },
  {
   "cell_type": "markdown",
   "metadata": {},
   "source": [
    "- Convertir la matriz de distancia condensada a matriz de distancia completa"
   ]
  },
  {
   "cell_type": "code",
   "execution_count": 14,
   "metadata": {
    "scrolled": true
   },
   "outputs": [],
   "source": [
    "matriz_distancias=squareform(dist_condensada)"
   ]
  },
  {
   "cell_type": "markdown",
   "metadata": {},
   "source": [
    "### Realizar el escalamiento multidimensional (MDS)"
   ]
  },
  {
   "cell_type": "code",
   "execution_count": 15,
   "metadata": {
    "scrolled": true
   },
   "outputs": [
    {
     "name": "stdout",
     "output_type": "stream",
     "text": [
      "Coordenadas de las secuencias genómicas SARS-CoV-2\n"
     ]
    },
    {
     "data": {
      "text/plain": [
       "array([[ 0.00606126,  0.02661841,  0.01596407, ..., -0.0864412 ,\n",
       "         0.05946762, -0.08790912],\n",
       "       [ 0.02614894, -0.03447207,  0.0413848 , ..., -0.04604643,\n",
       "        -0.07628736, -0.0177136 ],\n",
       "       [-0.02803425,  0.03394515, -0.02723374, ...,  0.06050425,\n",
       "         0.07831635,  0.07328115],\n",
       "       ...,\n",
       "       [ 0.07292322,  0.09150828, -0.07087852, ...,  0.02522457,\n",
       "         0.06428841, -0.07056958],\n",
       "       [-0.0651136 ,  0.0415876 , -0.06499878, ..., -0.08484634,\n",
       "        -0.01726174,  0.0838667 ],\n",
       "       [ 0.03941768,  0.05469877, -0.03291239, ..., -0.08935354,\n",
       "        -0.00478162,  0.04000234]])"
      ]
     },
     "execution_count": 15,
     "metadata": {},
     "output_type": "execute_result"
    }
   ],
   "source": [
    "mds = MDS(n_components=100, metric=False, max_iter=3000, eps=1e-12,\n",
    "                    dissimilarity=\"precomputed\", random_state=0, n_jobs=1,\n",
    "                    n_init=1)\n",
    "matriz_mds=mds.fit_transform(matriz_distancias)\n",
    "print(\"Coordenadas de las secuencias genómicas SARS-CoV-2\")\n",
    "matriz_mds"
   ]
  },
  {
   "cell_type": "markdown",
   "metadata": {},
   "source": [
    "### Realizar el análisis de componentes principales (PCA)"
   ]
  },
  {
   "cell_type": "code",
   "execution_count": 16,
   "metadata": {
    "scrolled": true
   },
   "outputs": [
    {
     "name": "stdout",
     "output_type": "stream",
     "text": [
      "Tamaño de X_pca (1323, 93)\n"
     ]
    },
    {
     "data": {
      "image/png": "[encoded data removed]",
      "text/plain": [
       "<Figure size 432x288 with 1 Axes>"
      ]
     },
     "metadata": {},
     "output_type": "display_data"
    }
   ],
   "source": [
    "pca=PCA(.95) \n",
    "pca.fit(matriz_mds)\n",
    "X_pca=pca.transform(matriz_mds) \n",
    "print(\"Tamaño de X_pca\", X_pca.shape)\n",
    "#Grafica del acumulado de varianza explicada en las nuevas dimensiones\n",
    "plt.plot(np.cumsum(pca.explained_variance_ratio_))\n",
    "plt.xlabel('Número de componentes')\n",
    "plt.ylabel('Acumulado de varianza explicada')\n",
    "plt.show()"
   ]
  },
  {
   "cell_type": "code",
   "execution_count": 17,
   "metadata": {},
   "outputs": [
    {
     "name": "stdout",
     "output_type": "stream",
     "text": [
      "Componentes principales\n"
     ]
    },
    {
     "data": {
      "text/plain": [
       "array([[ 0.03662219, -0.15277018,  0.12044988, ...,  0.02558608,\n",
       "         0.02281786,  0.03321645],\n",
       "       [-0.044128  , -0.0222438 ,  0.03573266, ...,  0.02967115,\n",
       "         0.04445772, -0.02729193],\n",
       "       [-0.04202697,  0.05318318, -0.07644464, ..., -0.01824486,\n",
       "         0.04680133,  0.07405418],\n",
       "       ...,\n",
       "       [-0.01452329, -0.12706134,  0.14327821, ..., -0.07107436,\n",
       "        -0.00967543,  0.02932787],\n",
       "       [-0.11247289, -0.06330221, -0.01651854, ..., -0.01837534,\n",
       "         0.03533256,  0.01172027],\n",
       "       [-0.01203776,  0.03488903,  0.13471966, ..., -0.0002573 ,\n",
       "         0.14118676,  0.08524331]])"
      ]
     },
     "execution_count": 17,
     "metadata": {},
     "output_type": "execute_result"
    }
   ],
   "source": [
    "print(\"Componentes principales\")\n",
    "X_pca"
   ]
  }
 ],
 "metadata": {
  "accelerator": "GPU",
  "colab": {
   "collapsed_sections": [],
   "name": "Preprocesamiento.ipynb",
   "provenance": []
  },
  "kernelspec": {
   "display_name": "Python 3 (ipykernel)",
   "language": "python",
   "name": "python3"
  },
  "language_info": {
   "codemirror_mode": {
    "name": "ipython",
    "version": 3
   },
   "file_extension": ".py",
   "mimetype": "text/x-python",
   "name": "python",
   "nbconvert_exporter": "python",
   "pygments_lexer": "ipython3",
   "version": "3.9.5"
  }
 },
 "nbformat": 4,
 "nbformat_minor": 1
}
