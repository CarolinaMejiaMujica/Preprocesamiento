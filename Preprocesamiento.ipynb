{
 "cells": [
  {
   "cell_type": "markdown",
   "metadata": {},
   "source": [
    "# Preprocesamiento de las secuencias genómicas SARS-CoV-2"
   ]
  },
  {
   "cell_type": "markdown",
   "metadata": {},
   "source": [
    "### Importación de librerias"
   ]
  },
  {
   "cell_type": "code",
   "execution_count": 1,
   "metadata": {
    "scrolled": true
   },
   "outputs": [],
   "source": [
    "import warnings\n",
    "warnings.filterwarnings('ignore')\n",
    "#Librerías para el modelo de red neuronal\n",
    "from tensorflow import keras\n",
    "from keras.models import Sequential\n",
    "from keras.layers.core import Dense\n",
    "from sklearn.model_selection import train_test_split  # para partir los datos en conjuntos de entrenamiento y validacion\n",
    "from sklearn.model_selection import KFold  # para partir la data en k-folds\n",
    "from sklearn.model_selection import cross_val_score   # para evaluar algoritmos en cross validacion \n",
    "#Librería para el formato de fecha\n",
    "from pygrok import Grok\n",
    "#Librería bioinformática\n",
    "from Bio import SeqIO, Seq\n",
    "from Bio.SeqIO.FastaIO import FastaIterator\n",
    "from Bio.Align import MultipleSeqAlignment\n",
    "#Librerías para los datos\n",
    "import numpy as np\n",
    "import pandas as pd\n",
    "from datetime import date\n",
    "import operator\n",
    "import collections\n",
    "from collections import Counter, defaultdict\n",
    "#Librería de preprocesamiento y reducción de dimensionalidad\n",
    "from sklearn.preprocessing import StandardScaler,scale\n",
    "from sklearn.decomposition import PCA\n",
    "from sklearn.pipeline import make_pipeline\n",
    "from sklearn.manifold import MDS\n",
    "#Librería de distancia\n",
    "from scipy.spatial.distance import pdist, hamming, squareform\n",
    "#Librerías para gráficos\n",
    "import matplotlib.pyplot as plt\n",
    "import matplotlib.font_manager\n",
    "from matplotlib import style\n",
    "style.use('ggplot') or plt.style.use('ggplot')"
   ]
  },
  {
   "cell_type": "markdown",
   "metadata": {},
   "source": [
    "### Lectura del archivo FASTA con todas las secuencias genómicas SARS-CoV-2"
   ]
  },
  {
   "cell_type": "markdown",
   "metadata": {
    "id": "ZiGyNPNRZiT5"
   },
   "source": [
    "- Variables iniciales"
   ]
  },
  {
   "cell_type": "code",
   "execution_count": 2,
   "metadata": {
    "id": "RA_k_YXHCshB",
    "scrolled": true
   },
   "outputs": [],
   "source": [
    "grok = Grok('%{YEAR:year}-%{MONTHNUM:month}-%{MONTHDAY:day}')\n",
    "lista = ['AMA','ANC','APU','ARE','AYA','CAJ','CUS','HUV','HUC','HVC','HUA','HCV','HUN','ICA','JUN','LAL','LAM','LIM','LOR','MDD','MOQ','PAS','PIU','PUN','SAM','SAN','TAC','TUM','UCA','CAL','C01','C02','C03']\n",
    "diccionario = {'AMA' : 'Amazonas','ANC' : 'Áncash','APU' : 'Apurímac','ARE' : 'Arequipa',\n",
    "               'AYA' : 'Ayacucho','CAJ' : 'Cajamarca','CUS' : 'Cusco',\n",
    "               'HUV' : 'Huancavelica','HUC' : 'Huánuco',\n",
    "               'HVC' : 'Huancavelica','HUA' : 'Huánuco',\n",
    "               'HCV' : 'Huancavelica','HUN' : 'Huánuco',\n",
    "               'ICA' : 'Ica','JUN' : 'Junín','LAL' : 'La Libertad',\n",
    "               'LAM' : 'Lambayeque','LIM' : 'Lima','LOR' : 'Loreto','MDD' : 'Madre de Dios',\n",
    "               'MOQ' : 'Moquegua','PAS' : 'Pasco','PIU' : 'Piura','PUN' : 'Puno',\n",
    "               'SAM' : 'San Martín', 'SAN' : 'San Martín',\n",
    "               'TAC' : 'Tacna','TUM' : 'Tumbes','UCA' : 'Ucayali',\n",
    "               'CAL' : 'Callao', 'C01' : 'Callao', 'C02': 'Callao','C03': 'Callao'}"
   ]
  },
  {
   "cell_type": "markdown",
   "metadata": {
    "id": "WCHBWN-GZcrw"
   },
   "source": [
    "- Lectura de archivos"
   ]
  },
  {
   "cell_type": "code",
   "execution_count": 11,
   "metadata": {
    "id": "acV-UM2IhoGS"
   },
   "outputs": [
    {
     "name": "stdout",
     "output_type": "stream",
     "text": [
      "Cantidad de secuencias genómicas SARS-CoV-2 en el archivo .fasta: 9196\n"
     ]
    }
   ],
   "source": [
    "registros = list(SeqIO.parse(\"gisaid_hcov-19_2021_11_01_16.fasta\", \"fasta\"))\n",
    "df_info = pd.read_csv(\"gisaid_hcov-19_2021_11_01_16.tsv\",sep='\\t')\n",
    "print(\"Cantidad de secuencias genómicas SARS-CoV-2 en el archivo .fasta:\",len(registros))"
   ]
  },
  {
   "cell_type": "markdown",
   "metadata": {
    "id": "XfpFiKp4Za15"
   },
   "source": [
    "### Obtención del código, la fecha de recolección y el lugar de donde se obtuvo cada secuencia genómica SARS-CoV-2"
   ]
  },
  {
   "cell_type": "code",
   "execution_count": 12,
   "metadata": {
    "id": "T7AKbxth67fR",
    "scrolled": true
   },
   "outputs": [
    {
     "name": "stdout",
     "output_type": "stream",
     "text": [
      "Cantidad de secuencias eliminadas: 49\n"
     ]
    }
   ],
   "source": [
    "abrevPlaces=list() #Lista de las abreviaciones de los lugares\n",
    "fechas=list() #Lista de las fechas\n",
    "secuencias=list() #Lista de las secuencias\n",
    "secuenciasEliminadas=list() #Lista de las secuencias eliminadas\n",
    "for i in range(len(registros)):\n",
    "    name=registros[i].id\n",
    "    #Obtener la abreviación del nombre del departamento\n",
    "    primer_indice=name.find('/')\n",
    "    segundo_indice = name.find('/', primer_indice + 1)\n",
    "    place=name[segundo_indice+1:segundo_indice+4]\n",
    "    #Secuencias que no tienen un lugar definido\n",
    "    if not place in lista:\n",
    "        secuenciasEliminadas.append(registros[i])\n",
    "        continue\n",
    "    else:\n",
    "        if not place in abrevPlaces:\n",
    "            abrevPlaces.append(place)\n",
    "        #Obtener el código de la secuencia\n",
    "        primer_indice=name.find('|')\n",
    "        segundo_indice = name.find('|', primer_indice + 1)\n",
    "        codigo=name[primer_indice+1:segundo_indice]\n",
    "        #Obtener la fecha de recolección\n",
    "        valor=grok.match(name)\n",
    "        if valor == None:\n",
    "            secuenciasEliminadas.append(registros[i])\n",
    "            continue\n",
    "        else:\n",
    "            fecha=valor['year'] + '-' + valor['month'] + '-' + valor['day']\n",
    "            #Guardar los datos obtenidos\n",
    "            registros[i].name=diccionario[place]\n",
    "            registros[i].description=fecha   \n",
    "            registros[i].id=codigo \n",
    "            fechas.append(fecha)\n",
    "            #Guardar la secuencia\n",
    "            secuencias.append(registros[i])\n",
    "print(\"Cantidad de secuencias eliminadas:\",len(secuenciasEliminadas))"
   ]
  },
  {
   "cell_type": "markdown",
   "metadata": {
    "id": "9EM642TaZQ11"
   },
   "source": [
    "### Eliminación de las secuencias genómicas SARS-CoV-2 con errores de lectura"
   ]
  },
  {
   "cell_type": "code",
   "execution_count": 13,
   "metadata": {
    "id": "vMa_9pa6YKCe",
    "scrolled": true
   },
   "outputs": [
    {
     "name": "stdout",
     "output_type": "stream",
     "text": [
      "Cantidad de secuencias eliminadas: 7576\n",
      "Cantidad de secuencias a preprocesar: 1571\n"
     ]
    }
   ],
   "source": [
    "#Eliminamos las secuencias con errores de lectura en el archivo fasta (definido como letras distintas de A, C, G, T).\n",
    "pos,cantSecEli=0,0\n",
    "while pos<len(secuencias):\n",
    "    registro=set(secuencias[pos].seq)\n",
    "    if 'N' in registro or 'K' in registro or 'M' in registro or 'R' in registro or 'S' in registro or 'W' in registro or 'Y' in registro:\n",
    "        secuencias.pop(pos)\n",
    "        cantSecEli+=1\n",
    "    else:\n",
    "        pos+=1\n",
    "print(\"Cantidad de secuencias eliminadas:\",cantSecEli)\n",
    "print(\"Cantidad de secuencias a preprocesar:\",len(secuencias))"
   ]
  },
  {
   "cell_type": "markdown",
   "metadata": {},
   "source": [
    "### Obtención del linaje pango de las secuencias genómicas SARS-CoV-2 a procesar"
   ]
  },
  {
   "cell_type": "code",
   "execution_count": 14,
   "metadata": {},
   "outputs": [],
   "source": [
    "df = pd.DataFrame(columns=['id', 'secuencia', 'secuenciaAlineada','lugar','fecha','linaje','variante','color'])\n",
    "for secu in secuencias:\n",
    "    df = df.append({'id': secu.id, 'secuencia':secu.seq, 'lugar':secu.name,'fecha':secu.description}, ignore_index=True)\n",
    "ids = np.array(df['id'])\n",
    "ids = ids.astype('str')\n",
    "cant=[]\n",
    "for i in range(len(df_info)):\n",
    "    id=df_info.iloc[i]['Accession ID']\n",
    "    variante=df_info.iloc[i]['Lineage']\n",
    "    indice=np.where(ids == id)\n",
    "    if len(indice[0]) == 1:\n",
    "        df['linaje'][indice[0][0]]=variante\n",
    "    else:\n",
    "        #secuencias eliminadas\n",
    "        cant=np.append(cant,[id],axis= 0)"
   ]
  },
  {
   "cell_type": "markdown",
   "metadata": {},
   "source": [
    "### Alineamiento múltiple de las secuencias genómicas SARS-CoV-2"
   ]
  },
  {
   "cell_type": "code",
   "execution_count": 15,
   "metadata": {
    "scrolled": true
   },
   "outputs": [
    {
     "name": "stdout",
     "output_type": "stream",
     "text": [
      "Alignment with 1571 rows and 29904 columns\n",
      "TTATACCTTCCCAGGTAACAAACCAACCAACTTTCGATCTCTTG...... EPI_ISL_415787\n",
      "CAGGCTGCTTACGGTTTCGTCCGTGTTGCAGCCGATCATCAGCA...... EPI_ISL_482468\n",
      "GGACACGAGTAACTCGTCTATCTTCTGCAGGCTGCTTACGGTTT...... EPI_ISL_487269\n",
      "CTCGTCTATCTTCTGCAGGCTGCTTACGGTTTCGTCCGTGTTGC...... EPI_ISL_489836\n",
      "CTCGTCTATCTTCTGCAGGCTGCTTACGGTTTCGTCCGTGTTGC...... EPI_ISL_489837\n",
      "CTCGTCTATCTTCTGCAGGCTGCTTACGGTTTCGTCCGTGTTGC...... EPI_ISL_489838\n",
      "CTCGTCTATCTTCTGCAGGCTGCTTACGGTTTCGTCCGTGTTGC...... EPI_ISL_489839\n",
      "CTCGTCTATCTTCTGCAGGCTGCTTACGGTTTCGTCCGTGTTGC...... EPI_ISL_489987\n",
      "CTCGTCTATCTTCTGCAGGCTGCTTACGGTTTCGTCCGTGTTGC...... EPI_ISL_489988\n",
      "CTCGTCTATCTTCTGCAGGCTGCTTACGGTTTCGTCCGTGTTGC...... EPI_ISL_489989\n",
      "CTCGTCTATCTTCTGCAGGCTGCTTACGGTTTCGTCCGTGTTGC...... EPI_ISL_489990\n",
      "CTCGTCTATCTTCTGCAGGCTGCTTACGGTTTCGTCCGTGTTGC...... EPI_ISL_490209\n",
      "CTCGTCTATCTTCTGCAGGCTGCTTACGGTTTCGTCCGTGTTGC...... EPI_ISL_490315\n",
      "CTCGTCTATCTTCTGCAGGCTGCTTACGGTTTCGTCCGTGTTGC...... EPI_ISL_490316\n",
      "CTCGTCTATCTTCTGCAGGCTGCTTACGGTTTCGTCCGTGTTGC...... EPI_ISL_490975\n",
      "CAGGCTGCTTACGGTTTCGTCCGTGTTGCAGCCGATCATCAGCA...... EPI_ISL_490976\n",
      "CTCGTCTATCTTCTGCAGGCTGCTTACGGTTTCGTCCGTGTTGC...... EPI_ISL_491172\n",
      "CTCGTCTATCTTCTGCAGGCTGCTTACGGTTTCGTCCGTGTTGC...... EPI_ISL_491428\n",
      "...\n",
      "AACCAACTTTCGATCTCTTGTAGATCTGTTCTCTAAACGAACTT...... EPI_ISL_5781940\n"
     ]
    }
   ],
   "source": [
    "maxlongitud = max(len(registro.seq) for registro in secuencias)\n",
    "i=0\n",
    "for registro in secuencias:\n",
    "    if len(registro.seq) != maxlongitud:\n",
    "        secuencia = str(registro.seq).ljust(maxlongitud, '.')\n",
    "        registro.seq = Seq.Seq(secuencia)\n",
    "    df['secuenciaAlineada'][i]=registro.seq\n",
    "    i=i+1\n",
    "secuenciasAlineadas = MultipleSeqAlignment(secuencias)\n",
    "print(secuenciasAlineadas)"
   ]
  },
  {
   "cell_type": "markdown",
   "metadata": {
    "id": "2cjf27VRzjv7"
   },
   "source": [
    "### Calculo de la matriz de distancia Hamming"
   ]
  },
  {
   "cell_type": "markdown",
   "metadata": {},
   "source": [
    "- Convertir las secuencias genómicas SARS-CoV-2 a una matriz"
   ]
  },
  {
   "cell_type": "code",
   "execution_count": 16,
   "metadata": {
    "colab": {
     "base_uri": "https://localhost:8080/"
    },
    "id": "px9Uz7fQZpnd",
    "outputId": "3748ec36-b7c3-4b03-ead2-e28dda16163e",
    "scrolled": true
   },
   "outputs": [
    {
     "data": {
      "text/plain": [
       "array([['T', 'T', 'A', ..., '.', '.', '.'],\n",
       "       ['C', 'A', 'G', ..., '.', '.', '.'],\n",
       "       ['G', 'G', 'A', ..., '.', '.', '.'],\n",
       "       ...,\n",
       "       ['A', 'C', 'T', ..., '.', '.', '.'],\n",
       "       ['A', 'A', 'C', ..., '.', '.', '.'],\n",
       "       ['A', 'A', 'C', ..., '.', '.', '.']], dtype='<U1')"
      ]
     },
     "execution_count": 16,
     "metadata": {},
     "output_type": "execute_result"
    }
   ],
   "source": [
    "matriz_secuencias= np.array([ list(secuencia.seq) for secuencia in secuenciasAlineadas])\n",
    "matriz_secuencias"
   ]
  },
  {
   "cell_type": "markdown",
   "metadata": {},
   "source": [
    "- Función para calcular la distancia Hamming"
   ]
  },
  {
   "cell_type": "code",
   "execution_count": 17,
   "metadata": {
    "scrolled": true
   },
   "outputs": [],
   "source": [
    "def ham(seq1,seq2):\n",
    "    return hamming(seq1,seq2)"
   ]
  },
  {
   "cell_type": "markdown",
   "metadata": {},
   "source": [
    "- Calcular una matriz de distancia condensada"
   ]
  },
  {
   "cell_type": "code",
   "execution_count": 18,
   "metadata": {
    "scrolled": true
   },
   "outputs": [
    {
     "data": {
      "text/plain": [
       "array([0.74, 0.74, 0.75, ..., 0.74, 0.75, 0.19])"
      ]
     },
     "execution_count": 18,
     "metadata": {},
     "output_type": "execute_result"
    }
   ],
   "source": [
    "distancia_condensada=pdist(matriz_secuencias, ham)\n",
    "dist_condensada=np.around(np.array(distancia_condensada),2)\n",
    "dist_condensada"
   ]
  },
  {
   "cell_type": "markdown",
   "metadata": {},
   "source": [
    "- Convertir la matriz de distancia condensada a matriz de distancia completa"
   ]
  },
  {
   "cell_type": "code",
   "execution_count": 19,
   "metadata": {
    "scrolled": true
   },
   "outputs": [
    {
     "data": {
      "text/plain": [
       "array([[0.  , 0.74, 0.74, ..., 0.74, 0.72, 0.72],\n",
       "       [0.74, 0.  , 0.72, ..., 0.72, 0.74, 0.74],\n",
       "       [0.74, 0.72, 0.  , ..., 0.72, 0.74, 0.74],\n",
       "       ...,\n",
       "       [0.74, 0.72, 0.72, ..., 0.  , 0.74, 0.75],\n",
       "       [0.72, 0.74, 0.74, ..., 0.74, 0.  , 0.19],\n",
       "       [0.72, 0.74, 0.74, ..., 0.75, 0.19, 0.  ]])"
      ]
     },
     "execution_count": 19,
     "metadata": {},
     "output_type": "execute_result"
    }
   ],
   "source": [
    "matriz_distancias=squareform(dist_condensada)\n",
    "matriz_distancias"
   ]
  },
  {
   "cell_type": "markdown",
   "metadata": {},
   "source": [
    "- Realizar el histograma para ver cual es la mayor distancia encontrada"
   ]
  },
  {
   "cell_type": "code",
   "execution_count": 21,
   "metadata": {},
   "outputs": [
    {
     "data": {
      "image/png": "[encoded data removed]",
      "text/plain": [
       "<Figure size 720x360 with 1 Axes>"
      ]
     },
     "metadata": {},
     "output_type": "display_data"
    }
   ],
   "source": [
    "bins=np.around(np.unique(dist_condensada),1)\n",
    "plt.figure(figsize=(10,5))\n",
    "plt.hist(x=dist_condensada, bins=bins)\n",
    "plt.title('Histograma de las distancias hamming')\n",
    "plt.xlabel('Distancias')\n",
    "plt.ylabel('Frecuencia')\n",
    "plt.xticks(bins)\n",
    "plt.show()"
   ]
  },
  {
   "cell_type": "markdown",
   "metadata": {},
   "source": [
    "### Realizar el escalamiento multidimensional (MDS)"
   ]
  },
  {
   "cell_type": "code",
   "execution_count": 22,
   "metadata": {},
   "outputs": [
    {
     "name": "stdout",
     "output_type": "stream",
     "text": [
      "Valor del stress al proyectar las secuencias genómicas SARS-CoV-2 a 10 dimensiones:  5273.093481566589\n"
     ]
    }
   ],
   "source": [
    "mds = MDS(n_components=10, max_iter=500, eps=1e-12,\n",
    "                    dissimilarity=\"precomputed\", random_state=0, n_jobs=-1,\n",
    "                    n_init=15)\n",
    "matriz_mds=mds.fit_transform(matriz_distancias)\n",
    "print(\"Valor del stress al proyectar las secuencias genómicas SARS-CoV-2 a 10 dimensiones: \",mds.stress_)"
   ]
  },
  {
   "cell_type": "code",
   "execution_count": 23,
   "metadata": {},
   "outputs": [
    {
     "data": {
      "text/plain": [
       "array([[-0.00243834,  0.00558773, -0.16619811, ..., -0.40054009,\n",
       "        -0.09758525,  0.10921529],\n",
       "       [ 0.21566721, -0.26442435, -0.05363415, ...,  0.0204874 ,\n",
       "         0.15513722,  0.175607  ],\n",
       "       [ 0.35247143,  0.05932586, -0.18795312, ..., -0.06552432,\n",
       "         0.23633255, -0.0016356 ],\n",
       "       ...,\n",
       "       [-0.00558286, -0.12277524,  0.10110446, ...,  0.26464992,\n",
       "         0.23167608, -0.03892008],\n",
       "       [ 0.21752564, -0.04907146,  0.1340805 , ..., -0.17280054,\n",
       "         0.02565209, -0.19382826],\n",
       "       [ 0.19270686, -0.04470819,  0.16561474, ..., -0.14487631,\n",
       "         0.00360153, -0.13944498]])"
      ]
     },
     "execution_count": 23,
     "metadata": {},
     "output_type": "execute_result"
    }
   ],
   "source": [
    "matriz_mds"
   ]
  },
  {
   "cell_type": "markdown",
   "metadata": {},
   "source": [
    "### Realizar el análisis de componentes principales (PCA)"
   ]
  },
  {
   "cell_type": "code",
   "execution_count": 24,
   "metadata": {
    "scrolled": true
   },
   "outputs": [
    {
     "name": "stdout",
     "output_type": "stream",
     "text": [
      "Tamaño de X_pca (1571, 10)\n"
     ]
    },
    {
     "data": {
      "image/png": "[encoded data removed]",
      "text/plain": [
       "<Figure size 432x288 with 1 Axes>"
      ]
     },
     "metadata": {},
     "output_type": "display_data"
    }
   ],
   "source": [
    "pca=PCA(.95) \n",
    "pca.fit(matriz_mds)\n",
    "X_pca=pca.transform(matriz_mds) \n",
    "print(\"Tamaño de X_pca\", X_pca.shape)\n",
    "#Grafica del acumulado de varianza explicada en las nuevas dimensiones\n",
    "plt.plot(np.cumsum(pca.explained_variance_ratio_))\n",
    "plt.xlabel('Número de componentes')\n",
    "plt.ylabel('Acumulado de varianza explicada')\n",
    "plt.show()"
   ]
  },
  {
   "cell_type": "code",
   "execution_count": 25,
   "metadata": {},
   "outputs": [
    {
     "name": "stdout",
     "output_type": "stream",
     "text": [
      "Porcentaje de varianza explicada con los dos primeros componentes principales:  32.04 %\n"
     ]
    }
   ],
   "source": [
    "valor=np.cumsum(pca.explained_variance_ratio_[:2])[1]*100\n",
    "print(\"Porcentaje de varianza explicada con los dos primeros componentes principales: \",round(valor, 2),\"%\")"
   ]
  },
  {
   "cell_type": "markdown",
   "metadata": {},
   "source": [
    "### Cálculo de los puntos de referencia (landmarks)"
   ]
  },
  {
   "cell_type": "code",
   "execution_count": 26,
   "metadata": {},
   "outputs": [],
   "source": [
    "from sklearn.cluster import KMeans\n",
    "n = 40\n",
    "k_means = KMeans(init = \"k-means++\", n_clusters = n, n_init = 12).fit(X_pca)\n",
    "centroides = k_means.cluster_centers_"
   ]
  },
  {
   "cell_type": "code",
   "execution_count": 27,
   "metadata": {},
   "outputs": [],
   "source": [
    "listaIndices=[]\n",
    "for a in range(len(centroides)):\n",
    "    diferenciaTotal=0\n",
    "    indice=0\n",
    "    for i in range(len(X_pca)):\n",
    "        fila=X_pca[i]\n",
    "        diferencia=0\n",
    "        for j in range(len(fila)):\n",
    "            diferencia = diferencia+ abs(abs(fila[j])-abs(centroides[a][j]))\n",
    "        if diferencia == 0:\n",
    "            break\n",
    "        elif diferencia>diferenciaTotal and not i in listaIndices:\n",
    "            diferenciaTotal=diferencia\n",
    "            indice=i\n",
    "    listaIndices.append(indice)"
   ]
  },
  {
   "cell_type": "markdown",
   "metadata": {},
   "source": [
    "### Calcular la matrix X e Y para entrenar la red neuronal"
   ]
  },
  {
   "cell_type": "markdown",
   "metadata": {},
   "source": [
    "- Calcular la matrix X, datos de entrada"
   ]
  },
  {
   "cell_type": "code",
   "execution_count": 28,
   "metadata": {},
   "outputs": [
    {
     "data": {
      "text/plain": [
       "array([[0.74, 0.73, 0.71, ..., 0.75, 0.75, 0.72],\n",
       "       [0.71, 0.72, 0.74, ..., 0.71, 0.71, 0.74],\n",
       "       [0.71, 0.72, 0.74, ..., 0.71, 0.71, 0.74],\n",
       "       ...,\n",
       "       [0.72, 0.72, 0.75, ..., 0.72, 0.72, 0.74],\n",
       "       [0.74, 0.74, 0.72, ..., 0.74, 0.74, 0.72],\n",
       "       [0.73, 0.74, 0.72, ..., 0.74, 0.74, 0.71]])"
      ]
     },
     "execution_count": 28,
     "metadata": {},
     "output_type": "execute_result"
    }
   ],
   "source": [
    "landmark=listaIndices\n",
    "X = np.empty((0, n), int)\n",
    "for i in range(len(matriz_distancias)):\n",
    "    fila=[]\n",
    "    #calcular la distancia de cada punto a los landmark\n",
    "    for j in range(n):\n",
    "        fila.append(matriz_distancias[i][landmark[j]])\n",
    "    X = np.append(X, np.array([fila]), axis=0)\n",
    "X"
   ]
  },
  {
   "cell_type": "markdown",
   "metadata": {},
   "source": [
    "- Calcular la matrix Y, datos de salida"
   ]
  },
  {
   "cell_type": "code",
   "execution_count": 29,
   "metadata": {},
   "outputs": [
    {
     "data": {
      "text/plain": [
       "array([[-0.12020324, -0.27437072],\n",
       "       [-0.01240376,  0.02520696],\n",
       "       [-0.01052167,  0.02502493],\n",
       "       ...,\n",
       "       [-0.13767426,  0.39421958],\n",
       "       [-0.11325186, -0.10026707],\n",
       "       [-0.10970625, -0.15106827]])"
      ]
     },
     "execution_count": 29,
     "metadata": {},
     "output_type": "execute_result"
    }
   ],
   "source": [
    "Y = np.empty((len(X), 0), float)\n",
    "for i in range(2):\n",
    "    Y = np.append(Y, X_pca[:,i].reshape(-1, 1), axis=1)\n",
    "Y"
   ]
  },
  {
   "cell_type": "markdown",
   "metadata": {},
   "source": [
    "### Red neuronal perceptrón multicapa (MLP)"
   ]
  },
  {
   "cell_type": "markdown",
   "metadata": {},
   "source": [
    "- Crear red neuronal"
   ]
  },
  {
   "cell_type": "code",
   "execution_count": 32,
   "metadata": {},
   "outputs": [],
   "source": [
    "# Funcion para definir el modelo MLP de 4 capas\n",
    "def define_modelo_MLP():\n",
    "    modelo = Sequential()  # Sequential indica que el modelo será una pila de capas conectadas secuencialmente (MLP) \n",
    "    modelo.add( Dense(n, kernel_initializer = keras.initializers.GlorotNormal(),input_shape=(n,), activation=\"tanh\") ) # Define 1era capa oculta \n",
    "    modelo.add( Dense(20,kernel_initializer = keras.initializers.GlorotNormal(), activation=\"tanh\") ) # Define 2da capa oculta \n",
    "    modelo.add( Dense(10,kernel_initializer = keras.initializers.GlorotNormal(), activation=\"tanh\") ) # Define 3ra capa oculta \n",
    "    modelo.add( Dense(2, kernel_initializer = keras.initializers.GlorotNormal(),activation=\"tanh\") ) # Define capa de salida con 2 neuronas (salidas) con activacion tangente\n",
    "    # compila el modelo\n",
    "    modelo.compile(optimizer=keras.optimizers.Nadam(learning_rate=0.00009), loss='mean_squared_error', metrics=['mse'])\n",
    "    return modelo"
   ]
  },
  {
   "cell_type": "markdown",
   "metadata": {},
   "source": [
    "- Función para visualizar el gráfico de MSE Loss"
   ]
  },
  {
   "cell_type": "code",
   "execution_count": 33,
   "metadata": {},
   "outputs": [],
   "source": [
    "def plot_learning_curves(histories):\n",
    "    for i in range(len(histories)):\n",
    "        # plotea la curva de loss\n",
    "        plt.subplot(1, 1, 1)\n",
    "        plt.title('MSE Loss')\n",
    "        plt.plot(histories[i].history['loss'], color='blue', label='train')\n",
    "        plt.plot(histories[i].history['val_loss'], color='orange', label='test')\n",
    "    plt.show()"
   ]
  },
  {
   "cell_type": "markdown",
   "metadata": {},
   "source": [
    "- Entrenamiento de la red neuronal"
   ]
  },
  {
   "cell_type": "code",
   "execution_count": 36,
   "metadata": {},
   "outputs": [],
   "source": [
    "modelo = define_modelo_MLP()\n",
    "X_train,X_test,Y_train,Y_test=train_test_split(X,Y,test_size=0.2,random_state=7)\n",
    "history = modelo.fit(X_train, Y_train, epochs=3000, batch_size=32, validation_data=(X_test, Y_test), verbose=0)"
   ]
  },
  {
   "cell_type": "code",
   "execution_count": 35,
   "metadata": {},
   "outputs": [
    {
     "data": {
      "image/png": "[encoded data removed]",
      "text/plain": [
       "<Figure size 432x288 with 1 Axes>"
      ]
     },
     "metadata": {},
     "output_type": "display_data"
    }
   ],
   "source": [
    "plot_learning_curves([history])"
   ]
  },
  {
   "cell_type": "code",
   "execution_count": 37,
   "metadata": {},
   "outputs": [
    {
     "data": {
      "image/png": "[encoded data removed]",
      "text/plain": [
       "<Figure size 432x288 with 1 Axes>"
      ]
     },
     "metadata": {},
     "output_type": "display_data"
    }
   ],
   "source": [
    "history = modelo.fit(X_train, Y_train, epochs=3000, batch_size=32, validation_data=(X_test, Y_test), verbose=0)\n",
    "plot_learning_curves([history])"
   ]
  },
  {
   "cell_type": "markdown",
   "metadata": {},
   "source": [
    "- Predicción de los valores de los datos de entrenamiento"
   ]
  },
  {
   "cell_type": "code",
   "execution_count": 113,
   "metadata": {},
   "outputs": [
    {
     "data": {
      "text/plain": [
       "array([[-0.06938261, -0.06373821],\n",
       "       [-0.03355836,  0.00257665],\n",
       "       [-0.08375931, -0.0661073 ],\n",
       "       ...,\n",
       "       [-0.18768373,  0.38431156],\n",
       "       [-0.08202893, -0.11406501],\n",
       "       [-0.07248888, -0.12168859]], dtype=float32)"
      ]
     },
     "execution_count": 113,
     "metadata": {},
     "output_type": "execute_result"
    }
   ],
   "source": [
    "valores=modelo.predict(X)\n",
    "valores"
   ]
  }
 ],
 "metadata": {
  "accelerator": "GPU",
  "colab": {
   "collapsed_sections": [],
   "name": "Preprocesamiento.ipynb",
   "provenance": []
  },
  "kernelspec": {
   "display_name": "Python 3 (ipykernel)",
   "language": "python",
   "name": "python3"
  },
  "language_info": {
   "codemirror_mode": {
    "name": "ipython",
    "version": 3
   },
   "file_extension": ".py",
   "mimetype": "text/x-python",
   "name": "python",
   "nbconvert_exporter": "python",
   "pygments_lexer": "ipython3",
   "version": "3.9.5"
  }
 },
 "nbformat": 4,
 "nbformat_minor": 1
}
