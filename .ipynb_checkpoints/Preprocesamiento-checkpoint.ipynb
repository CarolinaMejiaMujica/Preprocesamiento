{
 "cells": [
  {
   "cell_type": "markdown",
   "metadata": {},
   "source": [
    "# Preprocesamiento de las secuencias genómicas SARS-CoV-2"
   ]
  },
  {
   "cell_type": "markdown",
   "metadata": {},
   "source": [
    "### Instalación de Librerías"
   ]
  },
  {
   "cell_type": "code",
   "execution_count": 1,
   "metadata": {},
   "outputs": [
    {
     "name": "stdout",
     "output_type": "stream",
     "text": [
      "Requirement already satisfied: plotly in c:\\python39\\lib\\site-packages (5.2.1)\n",
      "Requirement already satisfied: six in c:\\python39\\lib\\site-packages (from plotly) (1.16.0)\n",
      "Requirement already satisfied: tenacity>=6.2.0 in c:\\python39\\lib\\site-packages (from plotly) (8.0.1)\n"
     ]
    }
   ],
   "source": [
    "!pip install plotly"
   ]
  },
  {
   "cell_type": "code",
   "execution_count": 2,
   "metadata": {
    "scrolled": true
   },
   "outputs": [
    {
     "name": "stdout",
     "output_type": "stream",
     "text": [
      "Requirement already satisfied: Bio in c:\\python39\\lib\\site-packages (0.7.3)\n",
      "Requirement already satisfied: plac in c:\\python39\\lib\\site-packages (from Bio) (1.3.3)\n",
      "Requirement already satisfied: tqdm>=4.62 in c:\\python39\\lib\\site-packages (from Bio) (4.62.1)\n",
      "Requirement already satisfied: biopython>=1.79 in c:\\python39\\lib\\site-packages (from Bio) (1.79)\n",
      "Requirement already satisfied: requests in c:\\python39\\lib\\site-packages (from Bio) (2.25.1)\n",
      "Requirement already satisfied: numpy in c:\\python39\\lib\\site-packages (from biopython>=1.79->Bio) (1.19.5)\n",
      "Requirement already satisfied: colorama in c:\\python39\\lib\\site-packages (from tqdm>=4.62->Bio) (0.4.4)\n",
      "Requirement already satisfied: urllib3<1.27,>=1.21.1 in c:\\python39\\lib\\site-packages (from requests->Bio) (1.26.4)\n",
      "Requirement already satisfied: chardet<5,>=3.0.2 in c:\\python39\\lib\\site-packages (from requests->Bio) (4.0.0)\n",
      "Requirement already satisfied: certifi>=2017.4.17 in c:\\python39\\lib\\site-packages (from requests->Bio) (2020.12.5)\n",
      "Requirement already satisfied: idna<3,>=2.5 in c:\\python39\\lib\\site-packages (from requests->Bio) (2.10)\n"
     ]
    }
   ],
   "source": [
    "!pip install Bio"
   ]
  },
  {
   "cell_type": "code",
   "execution_count": 3,
   "metadata": {
    "scrolled": true
   },
   "outputs": [
    {
     "name": "stdout",
     "output_type": "stream",
     "text": [
      "Requirement already satisfied: pygrok in c:\\python39\\lib\\site-packages (1.0.0)\n",
      "Requirement already satisfied: regex in c:\\python39\\lib\\site-packages (from pygrok) (2021.7.6)\n"
     ]
    }
   ],
   "source": [
    "!pip install pygrok"
   ]
  },
  {
   "cell_type": "code",
   "execution_count": 4,
   "metadata": {
    "scrolled": true
   },
   "outputs": [
    {
     "name": "stdout",
     "output_type": "stream",
     "text": [
      "Requirement already satisfied: scikit-learn in c:\\python39\\lib\\site-packages (0.24.2)\n",
      "Requirement already satisfied: scipy in c:\\python39\\lib\\site-packages (1.7.1)\n",
      "Requirement already satisfied: matplotlib in c:\\python39\\lib\\site-packages (3.4.3)\n",
      "Requirement already satisfied: numpy>=1.13.3 in c:\\python39\\lib\\site-packages (from scikit-learn) (1.19.5)\n",
      "Requirement already satisfied: joblib>=0.11 in c:\\python39\\lib\\site-packages (from scikit-learn) (1.0.1)\n",
      "Requirement already satisfied: threadpoolctl>=2.0.0 in c:\\python39\\lib\\site-packages (from scikit-learn) (2.2.0)\n",
      "Requirement already satisfied: pillow>=6.2.0 in c:\\python39\\lib\\site-packages (from matplotlib) (8.3.1)\n",
      "Requirement already satisfied: kiwisolver>=1.0.1 in c:\\python39\\lib\\site-packages (from matplotlib) (1.3.1)\n",
      "Requirement already satisfied: pyparsing>=2.2.1 in c:\\python39\\lib\\site-packages (from matplotlib) (2.4.7)\n",
      "Requirement already satisfied: cycler>=0.10 in c:\\python39\\lib\\site-packages (from matplotlib) (0.10.0)\n",
      "Requirement already satisfied: python-dateutil>=2.7 in c:\\python39\\lib\\site-packages (from matplotlib) (2.8.2)\n",
      "Requirement already satisfied: six in c:\\python39\\lib\\site-packages (from cycler>=0.10->matplotlib) (1.16.0)\n"
     ]
    }
   ],
   "source": [
    "!pip install -U scikit-learn scipy matplotlib"
   ]
  },
  {
   "cell_type": "markdown",
   "metadata": {},
   "source": [
    "### Importación de librerias"
   ]
  },
  {
   "cell_type": "code",
   "execution_count": 1,
   "metadata": {
    "scrolled": true
   },
   "outputs": [],
   "source": [
    "import warnings\n",
    "warnings.filterwarnings('ignore')\n",
    "#Librería para el formato de fecha\n",
    "from pygrok import Grok\n",
    "#Librería bioinformática\n",
    "from Bio import SeqIO, Seq\n",
    "from Bio.SeqIO.FastaIO import FastaIterator\n",
    "from Bio.Align import MultipleSeqAlignment\n",
    "#Librerías para los datos\n",
    "import numpy as np\n",
    "import pandas as pd\n",
    "from datetime import date\n",
    "import operator\n",
    "import collections\n",
    "from collections import Counter, defaultdict\n",
    "#Librería de preprocesamiento y reducción de dimensionalidad\n",
    "from sklearn.preprocessing import StandardScaler,scale\n",
    "from sklearn.decomposition import PCA\n",
    "from sklearn.pipeline import make_pipeline\n",
    "from sklearn.manifold import MDS\n",
    "#Librería de distancia\n",
    "from scipy.spatial.distance import pdist, hamming, squareform\n",
    "#Librerías para gráficos\n",
    "import matplotlib.pyplot as plt\n",
    "import matplotlib.font_manager\n",
    "from matplotlib import style\n",
    "style.use('ggplot') or plt.style.use('ggplot')"
   ]
  },
  {
   "cell_type": "markdown",
   "metadata": {},
   "source": [
    "### Lectura del archivo FASTA con todas las secuencias genómicas SARS-CoV-2"
   ]
  },
  {
   "cell_type": "markdown",
   "metadata": {
    "id": "ZiGyNPNRZiT5"
   },
   "source": [
    "- Variables iniciales"
   ]
  },
  {
   "cell_type": "code",
   "execution_count": 2,
   "metadata": {
    "id": "RA_k_YXHCshB",
    "scrolled": true
   },
   "outputs": [],
   "source": [
    "grok = Grok('%{YEAR:year}-%{MONTHNUM:month}-%{MONTHDAY:day}')\n",
    "lista = ['AMA','ANC','APU','ARE','AYA','CAJ','CUS','HUV','HUC','HVC','HUA','HCV','HUN','ICA','JUN','LAL','LAM','LIM','LOR','MDD','MOQ','PAS','PIU','PUN','SAM','SAN','TAC','TUM','UCA','CAL','C01','C02','C03']\n",
    "diccionario = {'AMA' : 'Amazonas','ANC' : 'Áncash','APU' : 'Apurímac','ARE' : 'Arequipa',\n",
    "               'AYA' : 'Ayacucho','CAJ' : 'Cajamarca','CUS' : 'Cusco',\n",
    "               'HUV' : 'Huancavelica','HUC' : 'Huánuco',\n",
    "               'HVC' : 'Huancavelica','HUA' : 'Huánuco',\n",
    "               'HCV' : 'Huancavelica','HUN' : 'Huánuco',\n",
    "               'ICA' : 'Ica','JUN' : 'Junín','LAL' : 'La Libertad',\n",
    "               'LAM' : 'Lambayeque','LIM' : 'Lima','LOR' : 'Loreto','MDD' : 'Madre de Dios',\n",
    "               'MOQ' : 'Moquegua','PAS' : 'Pasco','PIU' : 'Piura','PUN' : 'Puno',\n",
    "               'SAM' : 'San Martín', 'SAN' : 'San Martín',\n",
    "               'TAC' : 'Tacna','TUM' : 'Tumbes','UCA' : 'Ucayali',\n",
    "               'CAL' : 'Callao', 'C01' : 'Callao', 'C02': 'Callao','C03': 'Callao'}"
   ]
  },
  {
   "cell_type": "markdown",
   "metadata": {
    "id": "WCHBWN-GZcrw"
   },
   "source": [
    "- Lectura de archivos"
   ]
  },
  {
   "cell_type": "code",
   "execution_count": 4,
   "metadata": {
    "id": "acV-UM2IhoGS"
   },
   "outputs": [
    {
     "name": "stdout",
     "output_type": "stream",
     "text": [
      "Cantidad de secuencias genómicas SARS-CoV-2 en el archivo .fasta: 6520\n"
     ]
    }
   ],
   "source": [
    "registros = list(SeqIO.parse(\"gisaid_hcov-19_2021_10_02_23.fasta\", \"fasta\"))\n",
    "df_info = pd.read_csv(\"gisaid_hcov-19_2021_10_03_00.tsv\",sep='\\t')\n",
    "print(\"Cantidad de secuencias genómicas SARS-CoV-2 en el archivo .fasta:\",len(registros))"
   ]
  },
  {
   "cell_type": "markdown",
   "metadata": {
    "id": "XfpFiKp4Za15"
   },
   "source": [
    "### Obtención del código, la fecha de recolección y el lugar de donde se obtuvo cada secuencia genómica SARS-CoV-2"
   ]
  },
  {
   "cell_type": "code",
   "execution_count": 5,
   "metadata": {
    "id": "T7AKbxth67fR",
    "scrolled": true
   },
   "outputs": [
    {
     "name": "stdout",
     "output_type": "stream",
     "text": [
      "Cantidad de secuencias eliminadas: 30\n"
     ]
    }
   ],
   "source": [
    "abrevPlaces=list() #Lista de las abreviaciones de los lugares\n",
    "fechas=list() #Lista de las fechas\n",
    "secuencias=list() #Lista de las secuencias\n",
    "secuenciasEliminadas=list() #Lista de las secuencias eliminadas\n",
    "for i in range(len(registros)):\n",
    "    name=registros[i].id\n",
    "    #Obtener la abreviación del nombre del departamento\n",
    "    primer_indice=name.find('/')\n",
    "    segundo_indice = name.find('/', primer_indice + 1)\n",
    "    place=name[segundo_indice+1:segundo_indice+4]\n",
    "    #Secuencias que no tienen un lugar definido\n",
    "    if not place in lista:\n",
    "        secuenciasEliminadas.append(registros[i])\n",
    "        continue\n",
    "    else:\n",
    "        if not place in abrevPlaces:\n",
    "            abrevPlaces.append(place)\n",
    "        #Obtener el código de la secuencia\n",
    "        primer_indice=name.find('|')\n",
    "        segundo_indice = name.find('|', primer_indice + 1)\n",
    "        codigo=name[primer_indice+1:segundo_indice]\n",
    "        #Obtener la fecha de recolección\n",
    "        valor=grok.match(name)\n",
    "        if valor == None:\n",
    "            secuenciasEliminadas.append(registros[i])\n",
    "            continue\n",
    "        else:\n",
    "            fecha=valor['year'] + '-' + valor['month'] + '-' + valor['day']\n",
    "            #Guardar los datos obtenidos\n",
    "            registros[i].name=diccionario[place]\n",
    "            registros[i].description=fecha   \n",
    "            registros[i].id=codigo \n",
    "            fechas.append(fecha)\n",
    "            #Guardar la secuencia\n",
    "            secuencias.append(registros[i])\n",
    "print(\"Cantidad de secuencias eliminadas:\",len(secuenciasEliminadas))"
   ]
  },
  {
   "cell_type": "markdown",
   "metadata": {
    "id": "9EM642TaZQ11"
   },
   "source": [
    "### Eliminación de las secuencias genómicas SARS-CoV-2 con errores de lectura"
   ]
  },
  {
   "cell_type": "code",
   "execution_count": 6,
   "metadata": {
    "id": "vMa_9pa6YKCe",
    "scrolled": true
   },
   "outputs": [
    {
     "name": "stdout",
     "output_type": "stream",
     "text": [
      "Cantidad de secuencias eliminadas: 5125\n",
      "Cantidad de secuencias a preprocesar: 1365\n"
     ]
    }
   ],
   "source": [
    "#Eliminamos las secuencias con errores de lectura en el archivo fasta (definido como letras distintas de A, C, G, T).\n",
    "pos,cantSecEli=0,0\n",
    "while pos<len(secuencias):\n",
    "    registro=set(secuencias[pos].seq)\n",
    "    if 'N' in registro or 'K' in registro or 'M' in registro or 'R' in registro or 'S' in registro or 'W' in registro or 'Y' in registro:\n",
    "        secuencias.pop(pos)\n",
    "        cantSecEli+=1\n",
    "    else:\n",
    "        pos+=1\n",
    "print(\"Cantidad de secuencias eliminadas:\",cantSecEli)\n",
    "print(\"Cantidad de secuencias a preprocesar:\",len(secuencias))"
   ]
  },
  {
   "cell_type": "markdown",
   "metadata": {},
   "source": [
    "### Obtención del linaje pango de las secuencias genómicas SARS-CoV-2 a procesar"
   ]
  },
  {
   "cell_type": "code",
   "execution_count": 7,
   "metadata": {},
   "outputs": [],
   "source": [
    "df = pd.DataFrame(columns=['id', 'secuencia', 'secuenciaAlineada','lugar','fecha','linaje','variante','color'])\n",
    "for secu in secuencias:\n",
    "    df = df.append({'id': secu.id, 'secuencia':secu.seq, 'lugar':secu.name,'fecha':secu.description}, ignore_index=True)\n",
    "ids = np.array(df['id'])\n",
    "ids = ids.astype('str')\n",
    "cant=[]\n",
    "for i in range(len(df_info)):\n",
    "    id=df_info.iloc[i]['Accession ID']\n",
    "    variante=df_info.iloc[i]['Lineage']\n",
    "    indice=np.where(ids == id)\n",
    "    if len(indice[0]) == 1:\n",
    "        df['linaje'][indice[0][0]]=variante\n",
    "    else:\n",
    "        #secuencias eliminadas\n",
    "        cant=np.append(cant,[id],axis= 0)"
   ]
  },
  {
   "cell_type": "markdown",
   "metadata": {},
   "source": [
    "### Alineamiento múltiple de las secuencias genómicas SARS-CoV-2"
   ]
  },
  {
   "cell_type": "code",
   "execution_count": 8,
   "metadata": {
    "scrolled": true
   },
   "outputs": [
    {
     "name": "stdout",
     "output_type": "stream",
     "text": [
      "Alignment with 1365 rows and 29904 columns\n",
      "TTATACCTTCCCAGGTAACAAACCAACCAACTTTCGATCTCTTG...... EPI_ISL_415787\n",
      "CAGGCTGCTTACGGTTTCGTCCGTGTTGCAGCCGATCATCAGCA...... EPI_ISL_482468\n",
      "GGACACGAGTAACTCGTCTATCTTCTGCAGGCTGCTTACGGTTT...... EPI_ISL_487269\n",
      "CTCGTCTATCTTCTGCAGGCTGCTTACGGTTTCGTCCGTGTTGC...... EPI_ISL_489836\n",
      "CTCGTCTATCTTCTGCAGGCTGCTTACGGTTTCGTCCGTGTTGC...... EPI_ISL_489837\n",
      "CTCGTCTATCTTCTGCAGGCTGCTTACGGTTTCGTCCGTGTTGC...... EPI_ISL_489838\n",
      "CTCGTCTATCTTCTGCAGGCTGCTTACGGTTTCGTCCGTGTTGC...... EPI_ISL_489839\n",
      "CTCGTCTATCTTCTGCAGGCTGCTTACGGTTTCGTCCGTGTTGC...... EPI_ISL_489987\n",
      "CTCGTCTATCTTCTGCAGGCTGCTTACGGTTTCGTCCGTGTTGC...... EPI_ISL_489988\n",
      "CTCGTCTATCTTCTGCAGGCTGCTTACGGTTTCGTCCGTGTTGC...... EPI_ISL_489989\n",
      "CTCGTCTATCTTCTGCAGGCTGCTTACGGTTTCGTCCGTGTTGC...... EPI_ISL_489990\n",
      "CTCGTCTATCTTCTGCAGGCTGCTTACGGTTTCGTCCGTGTTGC...... EPI_ISL_490209\n",
      "CTCGTCTATCTTCTGCAGGCTGCTTACGGTTTCGTCCGTGTTGC...... EPI_ISL_490315\n",
      "CTCGTCTATCTTCTGCAGGCTGCTTACGGTTTCGTCCGTGTTGC...... EPI_ISL_490316\n",
      "CTCGTCTATCTTCTGCAGGCTGCTTACGGTTTCGTCCGTGTTGC...... EPI_ISL_490975\n",
      "CAGGCTGCTTACGGTTTCGTCCGTGTTGCAGCCGATCATCAGCA...... EPI_ISL_490976\n",
      "CTCGTCTATCTTCTGCAGGCTGCTTACGGTTTCGTCCGTGTTGC...... EPI_ISL_491172\n",
      "CTCGTCTATCTTCTGCAGGCTGCTTACGGTTTCGTCCGTGTTGC...... EPI_ISL_491428\n",
      "...\n",
      "ACCAACCAACTTTCGATCTCTTGTAGATCTGTTCTCTAAACGAA...... EPI_ISL_4730185\n"
     ]
    }
   ],
   "source": [
    "maxlongitud = max(len(registro.seq) for registro in secuencias)\n",
    "i=0\n",
    "for registro in secuencias:\n",
    "    if len(registro.seq) != maxlongitud:\n",
    "        secuencia = str(registro.seq).ljust(maxlongitud, '.')\n",
    "        registro.seq = Seq.Seq(secuencia)\n",
    "    df['secuenciaAlineada'][i]=registro.seq\n",
    "    i=i+1\n",
    "secuenciasAlineadas = MultipleSeqAlignment(secuencias)\n",
    "print(secuenciasAlineadas)"
   ]
  },
  {
   "cell_type": "markdown",
   "metadata": {
    "id": "2cjf27VRzjv7"
   },
   "source": [
    "### Calculo de la matriz de distancia Hamming"
   ]
  },
  {
   "cell_type": "markdown",
   "metadata": {},
   "source": [
    "- Convertir las secuencias genómicas SARS-CoV-2 a una matriz"
   ]
  },
  {
   "cell_type": "code",
   "execution_count": 9,
   "metadata": {
    "colab": {
     "base_uri": "https://localhost:8080/"
    },
    "id": "px9Uz7fQZpnd",
    "outputId": "3748ec36-b7c3-4b03-ead2-e28dda16163e",
    "scrolled": true
   },
   "outputs": [
    {
     "data": {
      "text/plain": [
       "array([['T', 'T', 'A', ..., '.', '.', '.'],\n",
       "       ['C', 'A', 'G', ..., '.', '.', '.'],\n",
       "       ['G', 'G', 'A', ..., '.', '.', '.'],\n",
       "       ...,\n",
       "       ['A', 'C', 'C', ..., '.', '.', '.'],\n",
       "       ['A', 'C', 'C', ..., '.', '.', '.'],\n",
       "       ['A', 'C', 'C', ..., '.', '.', '.']], dtype='<U1')"
      ]
     },
     "execution_count": 9,
     "metadata": {},
     "output_type": "execute_result"
    }
   ],
   "source": [
    "matriz_secuencias= np.array([ list(secuencia.seq) for secuencia in secuenciasAlineadas])\n",
    "matriz_secuencias"
   ]
  },
  {
   "cell_type": "markdown",
   "metadata": {},
   "source": [
    "- Función para calcular la distancia Hamming"
   ]
  },
  {
   "cell_type": "code",
   "execution_count": 10,
   "metadata": {
    "scrolled": true
   },
   "outputs": [],
   "source": [
    "def ham(seq1,seq2):\n",
    "    return hamming(seq1,seq2)"
   ]
  },
  {
   "cell_type": "markdown",
   "metadata": {},
   "source": [
    "- Calcular una matriz de distancia condensada"
   ]
  },
  {
   "cell_type": "code",
   "execution_count": 11,
   "metadata": {
    "scrolled": true
   },
   "outputs": [],
   "source": [
    "distancia_condensada=pdist(matriz_secuencias, ham)\n",
    "dist_condensada=np.around(np.array(distancia_condensada),2)"
   ]
  },
  {
   "cell_type": "markdown",
   "metadata": {},
   "source": [
    "- Convertir la matriz de distancia condensada a matriz de distancia completa"
   ]
  },
  {
   "cell_type": "code",
   "execution_count": 12,
   "metadata": {
    "scrolled": true
   },
   "outputs": [],
   "source": [
    "matriz_distancias=squareform(dist_condensada)"
   ]
  },
  {
   "cell_type": "markdown",
   "metadata": {},
   "source": [
    "- Realizar el histograma para ver cual es la mayor distancia encontrada"
   ]
  },
  {
   "cell_type": "code",
   "execution_count": 13,
   "metadata": {},
   "outputs": [
    {
     "data": {
      "image/png": "[encoded data removed]",
      "text/plain": [
       "<Figure size 720x360 with 1 Axes>"
      ]
     },
     "metadata": {},
     "output_type": "display_data"
    }
   ],
   "source": [
    "bins=np.around(np.unique(dist_condensada),1)\n",
    "plt.figure(figsize=(10,5))\n",
    "plt.hist(x=dist_condensada, bins=bins)\n",
    "plt.title('Histograma de las distancias hamming')\n",
    "plt.xlabel('Distancias')\n",
    "plt.ylabel('Frecuencia')\n",
    "plt.xticks(bins)\n",
    "plt.show()"
   ]
  },
  {
   "cell_type": "markdown",
   "metadata": {},
   "source": [
    "### Realizar el escalamiento multidimensional (MDS)"
   ]
  },
  {
   "cell_type": "code",
   "execution_count": 14,
   "metadata": {},
   "outputs": [],
   "source": [
    "componentes=[2, 100,120,140,160,180,200,220,240,260,280,300,320,340,360,380,400,420,440,460,480,500]\n",
    "stress=list()\n",
    "for i in componentes:\n",
    "    mds = MDS(n_components=i, max_iter=300, eps=1e-12,\n",
    "                    dissimilarity=\"precomputed\", random_state=0, n_jobs=-1,\n",
    "                    n_init=10)\n",
    "    matriz_mds=mds.fit_transform(matriz_distancias)\n",
    "    stress.append(mds.stress_)"
   ]
  },
  {
   "cell_type": "markdown",
   "metadata": {},
   "source": [
    "- Se realiza el gráfico para ver el valor del stress con relación al número de componentes"
   ]
  },
  {
   "cell_type": "code",
   "execution_count": 15,
   "metadata": {},
   "outputs": [
    {
     "data": {
      "image/png": "[encoded data removed]",
      "text/plain": [
       "<Figure size 432x288 with 1 Axes>"
      ]
     },
     "metadata": {},
     "output_type": "display_data"
    }
   ],
   "source": [
    "plt.plot(componentes, stress)\n",
    "plt.xlabel('Número de componentes')\n",
    "plt.ylabel('Valor del stress')\n",
    "plt.yscale(\"log\")\n",
    "plt.show()"
   ]
  },
  {
   "cell_type": "markdown",
   "metadata": {},
   "source": [
    "- Elección de una menor dimensión"
   ]
  },
  {
   "cell_type": "code",
   "execution_count": 16,
   "metadata": {},
   "outputs": [],
   "source": [
    "#Se obtiene el componente con el menor valor de stress\n",
    "#Se puede tolerar el 95% con respecto al mínimo valor de estrés\n",
    "valor=min(stress)*1.05\n",
    "dist=10000\n",
    "estres=0\n",
    "for i in stress:\n",
    "    distP=valor - i\n",
    "    if distP > 0 and distP < dist:\n",
    "        dist=distP\n",
    "        estres=i\n",
    "index = stress.index(estres)\n",
    "component=componentes[index]"
   ]
  },
  {
   "cell_type": "code",
   "execution_count": 28,
   "metadata": {},
   "outputs": [
    {
     "data": {
      "image/png": "[encoded data removed]",
      "text/plain": [
       "<Figure size 432x288 with 1 Axes>"
      ]
     },
     "metadata": {},
     "output_type": "display_data"
    }
   ],
   "source": [
    "plt.plot(componentes[1:], stress[1:])\n",
    "plt.xlabel('Número de componentes')\n",
    "plt.ylabel('Valor del stress')\n",
    "plt.axvline(x=component,c='blue', lw=1, linestyle='dashed')\n",
    "plt.axhline(y=min(stress), c='grey', lw=1, linestyle='dashed')\n",
    "plt.axhline(y=valor, c='green', lw=1, linestyle='dashed')\n",
    "plt.show()"
   ]
  },
  {
   "cell_type": "markdown",
   "metadata": {},
   "source": [
    "- Se vuelve a realizar MDS pero aumentando la cantidad máxima de iteraciones (max_iter) y el número de veces que se va a ejecutar el algoritmo SMACOF (n_init)"
   ]
  },
  {
   "cell_type": "code",
   "execution_count": 29,
   "metadata": {
    "scrolled": true
   },
   "outputs": [
    {
     "name": "stdout",
     "output_type": "stream",
     "text": [
      "Coordenadas de las secuencias genómicas SARS-CoV-2\n"
     ]
    },
    {
     "data": {
      "text/plain": [
       "array([[-0.00436889,  0.02013774,  0.02168775, ..., -0.01945805,\n",
       "         0.04018877,  0.01432612],\n",
       "       [ 0.04982756, -0.01499754, -0.0333079 , ...,  0.04998861,\n",
       "         0.00224913,  0.00288901],\n",
       "       [ 0.00120141, -0.05872979, -0.02770927, ..., -0.01698265,\n",
       "         0.00101824,  0.07168888],\n",
       "       ...,\n",
       "       [ 0.02545713,  0.01387278,  0.02134927, ..., -0.01573194,\n",
       "        -0.00279473,  0.00118107],\n",
       "       [ 0.02547406,  0.01381825,  0.02137959, ..., -0.01571638,\n",
       "        -0.00276684,  0.00121269],\n",
       "       [ 0.02108069,  0.01909477,  0.03006882, ...,  0.00216565,\n",
       "         0.00847478,  0.02850551]])"
      ]
     },
     "execution_count": 29,
     "metadata": {},
     "output_type": "execute_result"
    }
   ],
   "source": [
    "mds = MDS(n_components=component, max_iter=500, eps=1e-12,\n",
    "                    dissimilarity=\"precomputed\", random_state=0, n_jobs=-1,\n",
    "                    n_init=15)\n",
    "matriz_mds=mds.fit_transform(matriz_distancias)\n",
    "print(\"Coordenadas de las secuencias genómicas SARS-CoV-2\")\n",
    "matriz_mds"
   ]
  },
  {
   "cell_type": "markdown",
   "metadata": {},
   "source": [
    "### Realizar el análisis de componentes principales (PCA)"
   ]
  },
  {
   "cell_type": "code",
   "execution_count": 32,
   "metadata": {
    "scrolled": true
   },
   "outputs": [
    {
     "name": "stdout",
     "output_type": "stream",
     "text": [
      "Tamaño de X_pca (1365, 240)\n"
     ]
    },
    {
     "data": {
      "image/png": "[encoded data removed]",
      "text/plain": [
       "<Figure size 432x288 with 1 Axes>"
      ]
     },
     "metadata": {},
     "output_type": "display_data"
    }
   ],
   "source": [
    "pca=PCA(n_components=component) \n",
    "pca.fit(matriz_mds)\n",
    "X_pca=pca.transform(matriz_mds) \n",
    "print(\"Tamaño de X_pca\", X_pca.shape)\n",
    "#Grafica del acumulado de varianza explicada en las nuevas dimensiones\n",
    "plt.plot(np.cumsum(pca.explained_variance_ratio_))\n",
    "plt.xlabel('Número de componentes')\n",
    "plt.xscale(\"log\")\n",
    "plt.ylabel('Acumulado de varianza explicada')\n",
    "plt.show()"
   ]
  },
  {
   "cell_type": "code",
   "execution_count": 33,
   "metadata": {},
   "outputs": [
    {
     "name": "stdout",
     "output_type": "stream",
     "text": [
      "Porcentaje de varianza explicada con los dos primeros componentes principales:  31.83 %\n"
     ]
    }
   ],
   "source": [
    "valor=np.cumsum(pca.explained_variance_ratio_[:2])[1]*100\n",
    "print(\"Porcentaje de varianza explicada con los dos primeros componentes principales: \",round(valor, 2),\"%\")"
   ]
  },
  {
   "cell_type": "code",
   "execution_count": 128,
   "metadata": {},
   "outputs": [
    {
     "name": "stdout",
     "output_type": "stream",
     "text": [
      "Componentes principales\n"
     ]
    },
    {
     "data": {
      "text/plain": [
       "array([[-1.18358173e-01, -5.86122495e-02, -5.26868056e-02, ...,\n",
       "        -3.31998525e-03,  8.92567867e-04,  5.43324174e-03],\n",
       "       [-5.84806516e-02,  1.86980620e-03, -4.86888075e-02, ...,\n",
       "         4.92435483e-04,  2.18843512e-04, -9.53898725e-04],\n",
       "       [-6.01976062e-02, -2.20129019e-04, -5.04629274e-02, ...,\n",
       "        -1.30131886e-03,  1.33634667e-03, -7.54514756e-04],\n",
       "       ...,\n",
       "       [-1.70577230e-01, -2.48758207e-01,  2.40159758e-01, ...,\n",
       "         1.24011467e-05, -1.22431797e-04, -9.99256406e-05],\n",
       "       [-1.70567286e-01, -2.48733999e-01,  2.40158227e-01, ...,\n",
       "         1.38943704e-05, -1.19150541e-04, -9.89168004e-05],\n",
       "       [-1.84972154e-01, -2.85304008e-01,  2.95485482e-01, ...,\n",
       "         6.15012992e-04,  1.97239344e-03,  4.42334823e-03]])"
      ]
     },
     "execution_count": 128,
     "metadata": {},
     "output_type": "execute_result"
    }
   ],
   "source": [
    "print(\"Componentes principales\")\n",
    "X_pca"
   ]
  }
 ],
 "metadata": {
  "accelerator": "GPU",
  "colab": {
   "collapsed_sections": [],
   "name": "Preprocesamiento.ipynb",
   "provenance": []
  },
  "kernelspec": {
   "display_name": "Python 3 (ipykernel)",
   "language": "python",
   "name": "python3"
  },
  "language_info": {
   "codemirror_mode": {
    "name": "ipython",
    "version": 3
   },
   "file_extension": ".py",
   "mimetype": "text/x-python",
   "name": "python",
   "nbconvert_exporter": "python",
   "pygments_lexer": "ipython3",
   "version": "3.9.5"
  }
 },
 "nbformat": 4,
 "nbformat_minor": 1
}
